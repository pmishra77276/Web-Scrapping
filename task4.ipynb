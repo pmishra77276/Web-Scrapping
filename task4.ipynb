{
 "cells": [
  {
   "cell_type": "code",
   "execution_count": 1,
   "id": "4a5c1165",
   "metadata": {},
   "outputs": [],
   "source": [
    "##I have add proxy to the same code which was given in task1\n",
    "# Currently I'm not having access to username and password"
   ]
  },
  {
   "cell_type": "code",
   "execution_count": null,
   "id": "18ef5a21",
   "metadata": {},
   "outputs": [],
   "source": [
    "import pandas as pd\n",
    "from selenium import webdriver\n",
    "from selenium.webdriver.common.by import By\n",
    "import requests\n",
    "from proxymesh import ProxyMesh\n",
    "import os\n",
    "\n",
    "# Initialize ProxyMesh\n",
    "pm = ProxyMesh(username='your_username', password='your_password')\n",
    "\n",
    "# Function to rotate proxies\n",
    "def get_proxy():\n",
    "    return pm.get_proxy()\n",
    "\n",
    "# Function to set up Selenium with proxy\n",
    "def setup_selenium(proxy):\n",
    "    chrome_options = webdriver.ChromeOptions()\n",
    "    chrome_options.add_argument('--proxy-server=%s' % proxy)\n",
    "    driver = webdriver.Chrome(chrome_driver_path, options=chrome_options)\n",
    "    return driver\n",
    "\n",
    "chrome_driver_path = r\"C:\\Users\\pmish\\chromedriver-win64\\chromedriver.exe\"\n",
    "\n",
    "url = input(\"Give Url :: \")\n",
    "driver = setup_selenium(get_proxy())  # Set up Selenium with a proxy\n",
    "\n",
    "try:\n",
    "    driver.get(url)\n",
    "\n",
    "    button = driver.find_element(By.XPATH, \"//a[@data-type='merchant-nav-menu']\")\n",
    "    button.click()\n",
    "\n",
    "    imagebox = driver.find_element(By.CSS_SELECTOR, \"section.merchant-gallery\")\n",
    "    images = imagebox.find_elements(By.CSS_SELECTOR, \"img.err-handled\")\n",
    "\n",
    "    save_directory = \"D:\\\\Temp\"\n",
    "    for index, image in enumerate(images):\n",
    "        image_url = image.get_attribute(\"src\")\n",
    "        response = requests.get(image_url)\n",
    "\n",
    "        if response.status_code == 200:\n",
    "            file_path = os.path.join(save_directory, f\"menu_image_{index + 1}.jpg\")\n",
    "            with open(file_path, 'wb') as f:\n",
    "                f.write(response.content)\n",
    "                print(f\"menuImage {index + 1} downloaded successfully\")\n",
    "\n",
    "finally:\n",
    "    driver.quit()\n"
   ]
  },
  {
   "cell_type": "code",
   "execution_count": null,
   "id": "8cad555a",
   "metadata": {},
   "outputs": [],
   "source": []
  }
 ],
 "metadata": {
  "kernelspec": {
   "display_name": "Python 3 (ipykernel)",
   "language": "python",
   "name": "python3"
  },
  "language_info": {
   "codemirror_mode": {
    "name": "ipython",
    "version": 3
   },
   "file_extension": ".py",
   "mimetype": "text/x-python",
   "name": "python",
   "nbconvert_exporter": "python",
   "pygments_lexer": "ipython3",
   "version": "3.11.5"
  }
 },
 "nbformat": 4,
 "nbformat_minor": 5
}
