{
 "cells": [
  {
   "cell_type": "code",
   "execution_count": 26,
   "id": "e1aa9e9a",
   "metadata": {},
   "outputs": [
    {
     "name": "stdout",
     "output_type": "stream",
     "text": [
      "Give Url :: https://magicpin.in/New-Delhi/Paharganj/Restaurant/Eatfit/store/61a193/delivery/\n",
      "menuImage 1 downloaded successfully\n",
      "menuImage 2 downloaded successfully\n",
      "menuImage 3 downloaded successfully\n"
     ]
    }
   ],
   "source": [
    "import pandas as pd\n",
    "from selenium import webdriver\n",
    "from selenium.webdriver.common.by import By\n",
    "import requests\n",
    "from proxymesh import ProxyMesh\n",
    "import os\n",
    "\n",
    "chrome_driver_path = r\"C:\\Users\\pmish\\chromedriver-win64\\chromedriver.exe\"\n",
    "service = Service(executable_path=r\"C:\\Users\\pmish\\chromedriver-win64\\chromedriver.exe\")\n",
    "driver = webdriver.Chrome(service=service, options=chrome_options)\n",
    "\n",
    "\n",
    "url=input(\"Give Url :: \")\n",
    "driver.get(url)\n",
    "\n",
    "button = driver.find_element(\"xpath\",\"//a[@data-type='merchant-nav-menu']\")\n",
    "button.click()\n",
    "\n",
    "imagebox = driver.find_element(By.CSS_SELECTOR,\"section.merchant-gallery\")\n",
    "images=imagebox.find_elements(By.CSS_SELECTOR,\"img.err-handled\")\n",
    "save_directory = \"D:\\\\Temp\"\n",
    "for index,image in enumerate(images):\n",
    "    image_url = image.get_attribute(\"src\")\n",
    "#     print(image_url)\n",
    "    response = requests.get(image_url)\n",
    "\n",
    "    if response.status_code == 200:\n",
    "\n",
    "#         file_path = f\"image_{index}.jpg\"\n",
    "        file_path = os.path.join(save_directory, f\"menu_image_{index+1}.jpg\")\n",
    "        with open(file_path, 'wb') as f:\n",
    "            f.write(response.content)\n",
    "            print(f\"menuImage {index+1} downloaded successfully\")\n",
    "    \n",
    "# card_elements = driver.find_elements(By.CSS_SELECTOR,\".mb-srp__card__summary__list\")"
   ]
  },
  {
   "cell_type": "code",
   "execution_count": null,
   "id": "c73e8545",
   "metadata": {},
   "outputs": [],
   "source": [
    "https://magicpin.in/New-Delhi/Paharganj/Restaurant/Eatfit/store/61a193/delivery/"
   ]
  },
  {
   "cell_type": "code",
   "execution_count": 8,
   "id": "136b3b99",
   "metadata": {},
   "outputs": [
    {
     "name": "stdout",
     "output_type": "stream",
     "text": [
      "Food Menu\n"
     ]
    }
   ],
   "source": [
    "print(section.text)"
   ]
  },
  {
   "cell_type": "code",
   "execution_count": null,
   "id": "43c2a346",
   "metadata": {},
   "outputs": [],
   "source": []
  }
 ],
 "metadata": {
  "kernelspec": {
   "display_name": "Python 3 (ipykernel)",
   "language": "python",
   "name": "python3"
  },
  "language_info": {
   "codemirror_mode": {
    "name": "ipython",
    "version": 3
   },
   "file_extension": ".py",
   "mimetype": "text/x-python",
   "name": "python",
   "nbconvert_exporter": "python",
   "pygments_lexer": "ipython3",
   "version": "3.11.5"
  }
 },
 "nbformat": 4,
 "nbformat_minor": 5
}
